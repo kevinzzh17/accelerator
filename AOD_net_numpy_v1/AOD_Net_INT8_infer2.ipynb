{
 "cells": [
  {
   "cell_type": "markdown",
   "metadata": {},
   "source": [
    "导入库文件"
   ]
  },
  {
   "cell_type": "markdown",
   "metadata": {},
   "source": [
    "导入库文件"
   ]
  },
  {
   "cell_type": "code",
   "execution_count": 1,
   "metadata": {},
   "outputs": [],
   "source": [
    "#导入外部库\n",
    "import numpy as np\n",
    "from PIL import Image\n",
    "\n",
    "#导入自定义文件\n",
    "from utils import *\n",
    "from conv import *\n",
    "from concat import *\n",
    "from relu import *\n",
    "# np.set_printoptions(threshold=np.inf)\n",
    "# np.set_printoptions(precision=32, suppress=False, formatter={'float': '{:0.16}'.format})"
   ]
  },
  {
   "cell_type": "markdown",
   "metadata": {},
   "source": [
    "加载INT8权重"
   ]
  },
  {
   "cell_type": "code",
   "execution_count": 2,
   "metadata": {},
   "outputs": [],
   "source": [
    "from weights_int8 import qw1,Sw1,qw2,Sw2,qw3,Sw3,qw4,Sw4,qw5,Sw5\n",
    "from bias_int8 import qb1,Sb1,qb2,Sb2,qb3,Sb3,qb4,Sb4,qb5,Sb5\n",
    "from inout_int8 import Sconcat1,Zconcat1,Sconcat2,Zconcat2,Sconcat3,Zconcat3,Smul_out,Zmul_out,Ssub_out,Zsub_out,Sadd_out,Zadd_out\n",
    "from inout_int8 import Sy1,Zy1,Sy2,Zy2,Sy3,Zy3,Sy4,Zy4,Sy5,Zy5\n",
    "from inout_int8 import Sx1,Zx1,Sx2,Zx2,Sx3,Zx3,Sx4,Zx4,Sx5,Zx5"
   ]
  },
  {
   "cell_type": "markdown",
   "metadata": {},
   "source": [
    "参数定义"
   ]
  },
  {
   "cell_type": "code",
   "execution_count": 3,
   "metadata": {},
   "outputs": [],
   "source": [
    "img_path=\"./test/img/OTS_2987.jpg\"#输入图片\n",
    "txt_dir = \"./test/txt\"#txt文件保存路径\n",
    "txt_input_1 = \"./test/txt_dec/conv1_in.txt\"#Conv1输入图片   1x1卷积 1*1*3*8 = 24bit\n",
    "txt_input_2 = \"./test/txt_dec/conv2_in.txt\"#Conv2输入特征图 3x3卷积 3*3*3*8 = 216bit\n",
    "txt_input_3 = \"./test/txt_dec/conv3_in.txt\"#Conv3输入特征图 5x5卷积 5*5*6*8 = 1200bit\n",
    "txt_input_4 = \"./test/txt_dec/conv4_in.txt\"#Conv4输入特征图 7x7卷积 7*7*9*8 = 3528bit\n",
    "txt_input_5 = \"./test/txt_dec/conv5_in.txt\"#Conv5输入特征图 3x3卷积 3*3*6*8 = 432bit\n",
    "\n",
    "\n",
    "txt_output_1 = \"./test/txt_dec/conv1_out.txt\"\n",
    "txt_output_2 = \"./test/txt_dec/conv2_out.txt\"\n",
    "txt_output_3 = \"./test/txt_dec/conv3_out.txt\"\n",
    "txt_output_4 = \"./test/txt_dec/conv4_out.txt\"\n",
    "txt_output_5 = \"./test/txt_dec/conv5_out.txt\"\n",
    "\n",
    "# filter_shape=(output_channel,input_channel,filter_size)\n",
    "#               输出通道数      输入通道数     卷积核大小\n",
    "conv1_shape = (3,3,1)\n",
    "conv2_shape = (3,3,3)\n",
    "conv3_shape = (3,6,5)\n",
    "conv4_shape = (3,6,7)\n",
    "conv5_shape = (3,6,3)\n",
    "#conv_value=(Kernel_size,stride,padding)\n",
    "conv1_value = (1,1,0)\n",
    "conv2_value = (3,1,1)\n",
    "conv3_value = (5,1,2)\n",
    "conv4_value = (7,1,3)\n",
    "conv5_value = (3,1,1)"
   ]
  },
  {
   "cell_type": "markdown",
   "metadata": {},
   "source": [
    "加载图像"
   ]
  },
  {
   "cell_type": "code",
   "execution_count": 4,
   "metadata": {},
   "outputs": [],
   "source": [
    "def array_show_int8(array):\n",
    "    deahze_img = array.astype(np.uint8)\n",
    "    deahze_img = np.squeeze(deahze_img)\n",
    "    img = Image.fromarray(deahze_img.transpose(1,2,0))\n",
    "    img.show()\n",
    "\n",
    "hazy_input_image = Image.open(img_path)#图像加载\n",
    "hazy_input_image = hazy_input_image.resize((640, 480))\n",
    "hazy_image = (np.asarray(hazy_input_image))\n",
    "hazy_image = hazy_image.transpose(2,0,1)#HWC -> CHW\n",
    "hazy_image = np.expand_dims(hazy_image,axis=0)#增加一个新的维度batch_size (batch_size,C,H,W)\n",
    "\n",
    "array_show_int8(hazy_image)"
   ]
  },
  {
   "cell_type": "markdown",
   "metadata": {},
   "source": [
    "输入图片量化"
   ]
  },
  {
   "cell_type": "code",
   "execution_count": 5,
   "metadata": {},
   "outputs": [],
   "source": [
    "haze_img_int8 = (hazy_image-128).astype(np.int8)\n",
    "#Conv1输入\n",
    "# with open(txt_input_1,\"w+\") as f:\n",
    "#     f.write(f\"haze_img_int8:{haze_img_int8}\\n\")"
   ]
  },
  {
   "cell_type": "markdown",
   "metadata": {},
   "source": [
    "conv-relu1计算"
   ]
  },
  {
   "cell_type": "markdown",
   "metadata": {},
   "source": [
    "量化卷积计算int8*int8+int32 -> int32"
   ]
  },
  {
   "cell_type": "code",
   "execution_count": 6,
   "metadata": {},
   "outputs": [
    {
     "name": "stdout",
     "output_type": "stream",
     "text": [
      "M:[[661 472 494]]\n",
      "B:[[ -48 -100 -107]]\n"
     ]
    }
   ],
   "source": [
    "q_conv1 = Q_conv2d_fused(haze_img_int8,qw1,qb1,Sx1,Zx1,Sw1,Sb1,Sy1,Zy1,conv1_shape,stride=1,padding='SAME',const_num=Zx1)"
   ]
  },
  {
   "cell_type": "markdown",
   "metadata": {},
   "source": [
    "relu1计算"
   ]
  },
  {
   "cell_type": "code",
   "execution_count": 7,
   "metadata": {},
   "outputs": [],
   "source": [
    "qrelu1 = Q_ReLU(q_conv1)"
   ]
  },
  {
   "cell_type": "code",
   "execution_count": 8,
   "metadata": {},
   "outputs": [],
   "source": [
    "# with open(txt_output_1,\"w+\") as f:\n",
    "#     f.write(f\"haze_img_int8:{qrelu1}\\n\")"
   ]
  },
  {
   "cell_type": "code",
   "execution_count": 9,
   "metadata": {},
   "outputs": [],
   "source": [
    "#Conv2输入\n",
    "# with open(txt_input_2,\"w+\") as f:\n",
    "#     f.write(f\"qrelu1:{qrelu1}\\n\")"
   ]
  },
  {
   "cell_type": "markdown",
   "metadata": {},
   "source": [
    "conv-relu2计算"
   ]
  },
  {
   "cell_type": "code",
   "execution_count": 10,
   "metadata": {},
   "outputs": [
    {
     "name": "stdout",
     "output_type": "stream",
     "text": [
      "M:[[851 335 346]]\n",
      "B:[[-511 -159  -28]]\n"
     ]
    }
   ],
   "source": [
    "q_conv2 = Q_conv2d_fused(qrelu1,qw2,qb2,Sx2,Zx2,Sw2,Sb2,Sy2,Zy2,conv2_shape,stride=1,padding='SAME',const_num=Zx2)"
   ]
  },
  {
   "cell_type": "code",
   "execution_count": 11,
   "metadata": {},
   "outputs": [],
   "source": [
    "qrelu2 = Q_ReLU(q_conv2)\n",
    "# array_show_int8(qrelu2)\n",
    "# array_show_int8(qrelu2+128)\n"
   ]
  },
  {
   "cell_type": "code",
   "execution_count": 12,
   "metadata": {},
   "outputs": [],
   "source": [
    "# with open(txt_output_2,\"w+\") as f:\n",
    "#     f.write(f\"haze_img_int8:{qrelu2}\\n\")"
   ]
  },
  {
   "cell_type": "markdown",
   "metadata": {},
   "source": [
    "Concat1计算"
   ]
  },
  {
   "cell_type": "code",
   "execution_count": 13,
   "metadata": {},
   "outputs": [
    {
     "name": "stdout",
     "output_type": "stream",
     "text": [
      "M:[191]\n"
     ]
    }
   ],
   "source": [
    "q_concat1 = requantize(qrelu2,Sy2,Zy2,Sconcat1,Zconcat1)\n",
    "q_concat1 = concat(qrelu1,q_concat1)"
   ]
  },
  {
   "cell_type": "code",
   "execution_count": 14,
   "metadata": {},
   "outputs": [],
   "source": [
    "#Conv3输入\n",
    "# with open(txt_input_3,\"w+\") as f:\n",
    "#     f.write(f\"q_concat1:{q_concat1}\\n\")"
   ]
  },
  {
   "cell_type": "markdown",
   "metadata": {},
   "source": [
    "conv+relu3计算"
   ]
  },
  {
   "cell_type": "code",
   "execution_count": 15,
   "metadata": {},
   "outputs": [
    {
     "name": "stdout",
     "output_type": "stream",
     "text": [
      "M:[[ 741  791 2835]]\n",
      "B:[[  -418     58 -16276]]\n"
     ]
    }
   ],
   "source": [
    "q_conv3 = Q_conv2d_fused(q_concat1,qw3,qb3,Sx3,Zx3,Sw3,Sb3,Sy3,Zy3,conv3_shape,stride=1,padding='SAME',const_num=Zx3)"
   ]
  },
  {
   "cell_type": "code",
   "execution_count": 16,
   "metadata": {},
   "outputs": [],
   "source": [
    "qrelu3 = Q_ReLU(q_conv3)\n",
    "# array_show_int8(qrelu3)\n",
    "# array_show_int8(qrelu3+128)"
   ]
  },
  {
   "cell_type": "code",
   "execution_count": 17,
   "metadata": {},
   "outputs": [],
   "source": [
    "# with open(txt_output_3,\"w+\") as f:\n",
    "#     f.write(f\"haze_img_int8:{qrelu3}\\n\")"
   ]
  },
  {
   "cell_type": "markdown",
   "metadata": {},
   "source": [
    "concat2的计算"
   ]
  },
  {
   "cell_type": "code",
   "execution_count": 18,
   "metadata": {},
   "outputs": [
    {
     "name": "stdout",
     "output_type": "stream",
     "text": [
      "M:[249]\n"
     ]
    }
   ],
   "source": [
    "q_concat2_int_1 = requantize(qrelu3,Sy3,Zy3,Sconcat2,Zconcat2)\n",
    "q_concat2 = concat(qrelu2,q_concat2_int_1)"
   ]
  },
  {
   "cell_type": "code",
   "execution_count": 19,
   "metadata": {},
   "outputs": [],
   "source": [
    "#Conv4输入\n",
    "# with open(txt_input_4,\"w+\") as f:\n",
    "#     f.write(f\"q_concat2:{q_concat2}\\n\")"
   ]
  },
  {
   "cell_type": "markdown",
   "metadata": {},
   "source": [
    "conv+relu4计算"
   ]
  },
  {
   "cell_type": "code",
   "execution_count": 20,
   "metadata": {},
   "outputs": [
    {
     "name": "stdout",
     "output_type": "stream",
     "text": [
      "M:[[401 124 234]]\n",
      "B:[[-277  -35 -659]]\n"
     ]
    }
   ],
   "source": [
    "q_conv4 = Q_conv2d_fused(q_concat2,qw4,qb4,Sx4,Zx4,Sw4,Sb4,Sy4,Zy4,conv4_shape,stride=1,padding='SAME',const_num=Zx4)"
   ]
  },
  {
   "cell_type": "code",
   "execution_count": 21,
   "metadata": {},
   "outputs": [],
   "source": [
    "qrelu4 = Q_ReLU(q_conv4)\n",
    "# array_show_int8(qrelu4)\n",
    "# array_show_int8(qrelu4+128)\n"
   ]
  },
  {
   "cell_type": "code",
   "execution_count": 22,
   "metadata": {},
   "outputs": [],
   "source": [
    "# with open(txt_output_4,\"w+\") as f:\n",
    "#     f.write(f\"haze_img_int8:{qrelu4}\\n\")"
   ]
  },
  {
   "cell_type": "markdown",
   "metadata": {},
   "source": [
    "Concat3计算"
   ]
  },
  {
   "cell_type": "code",
   "execution_count": 23,
   "metadata": {},
   "outputs": [
    {
     "name": "stdout",
     "output_type": "stream",
     "text": [
      "M:[666]\n"
     ]
    }
   ],
   "source": [
    "q_concat3 = requantize(qrelu4,Sy4,Zy4,Sconcat3,Zconcat3)\n",
    "\n",
    "q_concat3 = concat(qrelu3,q_concat3)\n",
    "# array_show_int8(q_concat3)\n",
    "# array_show_int8(q_concat3+128)"
   ]
  },
  {
   "cell_type": "code",
   "execution_count": 24,
   "metadata": {},
   "outputs": [],
   "source": [
    "#Conv5输入\n",
    "# with open(txt_input_5,\"w+\") as f:\n",
    "#     f.write(f\"q_concat3:{q_concat3}\\n\")"
   ]
  },
  {
   "cell_type": "markdown",
   "metadata": {},
   "source": [
    "conv+relu5计算"
   ]
  },
  {
   "cell_type": "code",
   "execution_count": 25,
   "metadata": {},
   "outputs": [
    {
     "name": "stdout",
     "output_type": "stream",
     "text": [
      "M:[[62 69 65]]\n",
      "B:[[166 168 161]]\n"
     ]
    }
   ],
   "source": [
    "q_conv5 = Q_conv2d_fused(q_concat3,qw5,qb5,Sx5,Zx5,Sw5,Sb5,Sy5,Zy5,conv5_shape,stride=1,padding='SAME',const_num=Zx5)"
   ]
  },
  {
   "cell_type": "code",
   "execution_count": 26,
   "metadata": {},
   "outputs": [],
   "source": [
    "qrelu5 = Q_ReLU(q_conv5)\n",
    "# array_show_int8(qrelu5+128)\n",
    "# array_show_int8(qrelu5)"
   ]
  },
  {
   "cell_type": "code",
   "execution_count": 27,
   "metadata": {},
   "outputs": [],
   "source": [
    "# with open(txt_output_5,\"w+\") as f:\n",
    "#     f.write(f\"haze_img_int8:{qrelu5}\\n\")"
   ]
  },
  {
   "cell_type": "markdown",
   "metadata": {},
   "source": [
    "mul计算"
   ]
  },
  {
   "cell_type": "code",
   "execution_count": 28,
   "metadata": {},
   "outputs": [
    {
     "name": "stdout",
     "output_type": "stream",
     "text": [
      "M:[280]\n",
      "[[[[-38 -27 -20 ... -13  -3 -27]\n",
      "   [-28 -16 -16 ...  -2   1  -5]\n",
      "   [-27 -19 -16 ...  -3  -2 -14]\n",
      "   ...\n",
      "   [-42 -36 -28 ... -27 -36 -48]\n",
      "   [-36 -30 -25 ... -26 -35 -49]\n",
      "   [-51 -37 -35 ... -36 -46 -53]]\n",
      "\n",
      "  [[-19   5  10 ...  13  10   5]\n",
      "   [ -7  14  14 ...  27  26  33]\n",
      "   [ -3  15  16 ...  22  18  24]\n",
      "   ...\n",
      "   [-25  -9  -7 ... -22 -35 -45]\n",
      "   [-23  -9   0 ... -20 -33 -44]\n",
      "   [-25 -18 -11 ... -32 -44 -55]]\n",
      "\n",
      "  [[-12  18  23 ...  28  21  43]\n",
      "   [  6  28  31 ...  34  32  55]\n",
      "   [  7  26  26 ...  33  23  48]\n",
      "   ...\n",
      "   [-15  -7   0 ... -46 -59 -68]\n",
      "   [-16   1   2 ... -46 -59 -67]\n",
      "   [-24  -9  -4 ... -53 -65 -77]]]]\n"
     ]
    }
   ],
   "source": [
    "q_mul = q_mul_fun(qrelu5,Sy5,Zy5,haze_img_int8,Sx1,Zx1,Smul_out,Zmul_out)\n",
    "print(q_mul)"
   ]
  },
  {
   "cell_type": "markdown",
   "metadata": {},
   "source": [
    "sub计算"
   ]
  },
  {
   "cell_type": "code",
   "execution_count": 29,
   "metadata": {},
   "outputs": [
    {
     "name": "stdout",
     "output_type": "stream",
     "text": [
      "qx1.dtype:int8\n",
      "qx2.dtype:int8\n",
      "Sx1/Sy:[1.2318841]\n",
      "Sx2/Sy:[1.34243776]\n",
      "M1:[20183]\n",
      "M2:[-21995]\n",
      "B:[113]\n",
      "[[[[ 36  26  18 ...  32  24  43]\n",
      "   [ 26  14  15 ...  24  21  27]\n",
      "   [ 26  17  15 ...  24  23  34]\n",
      "   ...\n",
      "   [ 18  10   4 ...   3 -14 -12]\n",
      "   [  9   6   1 ...   3 -13  -7]\n",
      "   [ 28  13  13 ...  16   5   2]]\n",
      "\n",
      "  [[ 74  64  62 ...  68  68  70]\n",
      "   [ 69  60  60 ...  63  63  59]\n",
      "   [ 67  60  58 ...  63  65  63]\n",
      "   ...\n",
      "   [ 48  38  38 ...   5  -4  -5]\n",
      "   [ 47  41  36 ...   6  -3  -6]\n",
      "   [ 48  47  43 ...  21  11  15]]\n",
      "\n",
      "  [[ 96  89  88 ...  93  94  90]\n",
      "   [ 92  87  86 ...  91  93  88]\n",
      "   [ 92  87  87 ...  93  94  88]\n",
      "   ...\n",
      "   [ 60  58  55 ... -25 -30 -30]\n",
      "   [ 61  55  56 ... -22 -27 -32]\n",
      "   [ 67  60  59 ...  -6 -13  -4]]]]\n"
     ]
    }
   ],
   "source": [
    "q_sub = q_sub_fun(q_mul,Smul_out,Zmul_out,qrelu5,Sy5,Zy5,Ssub_out,Zsub_out)\n",
    "print(q_sub)\n"
   ]
  },
  {
   "cell_type": "markdown",
   "metadata": {},
   "source": [
    "add计算"
   ]
  },
  {
   "cell_type": "code",
   "execution_count": 30,
   "metadata": {},
   "outputs": [
    {
     "name": "stdout",
     "output_type": "stream",
     "text": [
      "M:[20488]\n",
      "C:[-32]\n",
      "[[[[ 13   0 -10 ...   8  -2  21]\n",
      "   [  0 -15 -14 ...  -2  -6   1]\n",
      "   [  0 -11 -14 ...  -2  -4  10]\n",
      "   ...\n",
      "   [-10 -20 -27 ... -29 -50 -48]\n",
      "   [-21 -25 -31 ... -29 -49 -41]\n",
      "   [  3 -16 -16 ... -12 -26 -30]]\n",
      "\n",
      "  [[ 60  48  45 ...  53  53  55]\n",
      "   [ 54  43  43 ...  46  46  41]\n",
      "   [ 51  43  40 ...  46  49  46]\n",
      "   ...\n",
      "   [ 28  15  15 ... -26 -38 -39]\n",
      "   [ 26  19  13 ... -25 -36 -40]\n",
      "   [ 28  26  21 ...  -6 -19 -14]]\n",
      "\n",
      "  [[ 88  79  78 ...  84  85  80]\n",
      "   [ 83  76  75 ...  81  84  78]\n",
      "   [ 83  76  76 ...  84  85  78]\n",
      "   ...\n",
      "   [ 43  40  36 ... -64 -70 -70]\n",
      "   [ 44  36  38 ... -60 -66 -73]\n",
      "   [ 51  43  41 ... -40 -49 -38]]]]\n"
     ]
    }
   ],
   "source": [
    "q_add = q_add_fun(q_sub,Ssub_out,Zsub_out,Sadd_out,Zadd_out)\n",
    "print(q_add)\n",
    "q_add_relu = Q_ReLU(q_add)"
   ]
  },
  {
   "cell_type": "markdown",
   "metadata": {},
   "source": [
    "INT8模型输出"
   ]
  },
  {
   "cell_type": "code",
   "execution_count": 31,
   "metadata": {},
   "outputs": [],
   "source": [
    "q_img_out= q_add_relu+128\n",
    "\n",
    "array_show_int8(q_img_out)"
   ]
  },
  {
   "cell_type": "code",
   "execution_count": null,
   "metadata": {},
   "outputs": [],
   "source": []
  },
  {
   "cell_type": "code",
   "execution_count": null,
   "metadata": {},
   "outputs": [],
   "source": []
  }
 ],
 "metadata": {
  "kernelspec": {
   "display_name": "base",
   "language": "python",
   "name": "python3"
  },
  "language_info": {
   "codemirror_mode": {
    "name": "ipython",
    "version": 3
   },
   "file_extension": ".py",
   "mimetype": "text/x-python",
   "name": "python",
   "nbconvert_exporter": "python",
   "pygments_lexer": "ipython3",
   "version": "3.11.5"
  }
 },
 "nbformat": 4,
 "nbformat_minor": 2
}
