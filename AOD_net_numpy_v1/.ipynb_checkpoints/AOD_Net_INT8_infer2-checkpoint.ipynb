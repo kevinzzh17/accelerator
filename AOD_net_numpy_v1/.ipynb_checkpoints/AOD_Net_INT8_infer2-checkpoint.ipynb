{
 "cells": [
  {
   "cell_type": "markdown",
   "metadata": {},
   "source": [
    "导入库文件"
   ]
  },
  {
   "cell_type": "code",
   "execution_count": 1,
   "metadata": {},
   "outputs": [],
   "source": [
    "#导入外部库\n",
    "import numpy as np\n",
    "from PIL import Image\n",
    "\n",
    "#导入自定义文件\n",
    "from utils import *\n",
    "from conv import *\n",
    "from concat import *\n",
    "from relu import *\n",
    "np.set_printoptions(threshold=np.inf)\n",
    "# np.set_printoptions(precision=32, suppress=False, formatter={'float': '{:0.16}'.format})"
   ]
  },
  {
   "cell_type": "markdown",
   "metadata": {},
   "source": [
    "加载INT8权重"
   ]
  },
  {
   "cell_type": "code",
   "execution_count": 2,
   "metadata": {},
   "outputs": [],
   "source": [
    "from weights_int8 import qw1,Sw1,qw2,Sw2,qw3,Sw3,qw4,Sw4,qw5,Sw5\n",
    "from bias_int8 import qb1,Sb1,qb2,Sb2,qb3,Sb3,qb4,Sb4,qb5,Sb5\n",
    "from inout_int8 import Sconcat1,Zconcat1,Sconcat2,Zconcat2,Sconcat3,Zconcat3,Smul_out,Zmul_out,Ssub_out,Zsub_out,Sadd_out,Zadd_out\n",
    "from inout_int8 import Sy1,Zy1,Sy2,Zy2,Sy3,Zy3,Sy4,Zy4,Sy5,Zy5\n",
    "from inout_int8 import Sx1,Zx1,Sx2,Zx2,Sx3,Zx3,Sx4,Zx4,Sx5,Zx5"
   ]
  },
  {
   "cell_type": "markdown",
   "metadata": {},
   "source": [
    "参数定义"
   ]
  },
  {
   "cell_type": "code",
   "execution_count": 3,
   "metadata": {},
   "outputs": [],
   "source": [
    "img_path=\"./test/img/OTS_2987.jpg\"#输入图片\n",
    "txt_dir = \"./test/txt\"#txt文件保存路径\n",
    "txt_input_1 = \"./test/txt_dec/conv1_in.txt\"#Conv1输入图片   1x1卷积 1*1*3*8 = 24bit\n",
    "txt_input_2 = \"./test/txt_dec/conv2_in.txt\"#Conv2输入特征图 3x3卷积 3*3*3*8 = 216bit\n",
    "txt_input_3 = \"./test/txt_dec/conv3_in.txt\"#Conv3输入特征图 5x5卷积 5*5*6*8 = 1200bit\n",
    "txt_input_4 = \"./test/txt_dec/conv4_in.txt\"#Conv4输入特征图 7x7卷积 7*7*9*8 = 3528bit\n",
    "txt_input_5 = \"./test/txt_dec/conv5_in.txt\"#Conv5输入特征图 3x3卷积 3*3*6*8 = 432bit\n",
    "\n",
    "\n",
    "txt_output_1 = \"./test/txt_dec/conv1_out.txt\"\n",
    "txt_output_2 = \"./test/txt_dec/conv2_out.txt\"\n",
    "txt_output_3 = \"./test/txt_dec/conv3_out.txt\"\n",
    "txt_output_4 = \"./test/txt_dec/conv4_out.txt\"\n",
    "txt_output_5 = \"./test/txt_dec/conv5_out.txt\"\n",
    "\n",
    "# filter_shape=(output_channel,input_channel,filter_size)\n",
    "#               输出通道数      输入通道数     卷积核大小\n",
    "conv1_shape = (3,3,1)\n",
    "conv2_shape = (3,3,3)\n",
    "conv3_shape = (3,6,5)\n",
    "conv4_shape = (3,6,7)\n",
    "conv5_shape = (3,6,3)\n",
    "#conv_value=(Kernel_size,stride,padding)\n",
    "conv1_value = (1,1,0)\n",
    "conv2_value = (3,1,1)\n",
    "conv3_value = (5,1,2)\n",
    "conv4_value = (7,1,3)\n",
    "conv5_value = (3,1,1)"
   ]
  },
  {
   "cell_type": "markdown",
   "metadata": {},
   "source": [
    "加载图像"
   ]
  },
  {
   "cell_type": "code",
   "execution_count": 4,
   "metadata": {},
   "outputs": [],
   "source": [
    "hazy_input_image = Image.open(img_path)#图像加载\n",
    "hazy_input_image = hazy_input_image.resize((640, 480))\n",
    "hazy_image = (np.asarray(hazy_input_image))\n",
    "hazy_image = hazy_image.transpose(2,0,1)#HWC -> CHW\n",
    "hazy_image = np.expand_dims(hazy_image,axis=0)#增加一个新的维度batch_size (batch_size,C,H,W)"
   ]
  },
  {
   "cell_type": "markdown",
   "metadata": {},
   "source": [
    "输入图片量化"
   ]
  },
  {
   "cell_type": "code",
   "execution_count": 5,
   "metadata": {},
   "outputs": [],
   "source": [
    "haze_img_int8 = (hazy_image-128).astype(np.int8)\n",
    "#Conv1输入\n",
    "# with open(txt_input_1,\"w+\") as f:\n",
    "#     f.write(f\"haze_img_int8:{haze_img_int8}\\n\")"
   ]
  },
  {
   "cell_type": "markdown",
   "metadata": {},
   "source": [
    "conv-relu1计算"
   ]
  },
  {
   "cell_type": "markdown",
   "metadata": {},
   "source": [
    "量化卷积计算int8*int8+int32 -> int32"
   ]
  },
  {
   "cell_type": "code",
   "execution_count": 6,
   "metadata": {},
   "outputs": [
    {
     "name": "stdout",
     "output_type": "stream",
     "text": [
      "M:[[661 472 494]]\n",
      "B:[[ -48 -100 -107]]\n"
     ]
    }
   ],
   "source": [
    "q_conv1 = Q_conv2d_fused(haze_img_int8,qw1,qb1,Sx1,Zx1,Sw1,Sb1,Sy1,Zy1,conv1_shape,stride=1,padding='SAME')"
   ]
  },
  {
   "cell_type": "markdown",
   "metadata": {},
   "source": [
    "relu1计算"
   ]
  },
  {
   "cell_type": "code",
   "execution_count": 7,
   "metadata": {},
   "outputs": [],
   "source": [
    "qrelu1 = Q_ReLU(q_conv1)"
   ]
  },
  {
   "cell_type": "code",
   "execution_count": 8,
   "metadata": {},
   "outputs": [],
   "source": [
    "# with open(txt_output_1,\"w+\") as f:\n",
    "#     f.write(f\"haze_img_int8:{qrelu1}\\n\")"
   ]
  },
  {
   "cell_type": "code",
   "execution_count": 9,
   "metadata": {},
   "outputs": [],
   "source": [
    "#Conv2输入\n",
    "# with open(txt_input_2,\"w+\") as f:\n",
    "#     f.write(f\"qrelu1:{qrelu1}\\n\")"
   ]
  },
  {
   "cell_type": "markdown",
   "metadata": {},
   "source": [
    "conv-relu2计算"
   ]
  },
  {
   "cell_type": "code",
   "execution_count": 10,
   "metadata": {},
   "outputs": [
    {
     "name": "stdout",
     "output_type": "stream",
     "text": [
      "M:[[851 335 346]]\n",
      "B:[[-511 -159  -28]]\n"
     ]
    }
   ],
   "source": [
    "q_conv2 = Q_conv2d_fused(qrelu1,qw2,qb2,Sx2,Zx2,Sw2,Sb2,Sy2,Zy2,conv2_shape,stride=1,padding='SAME')"
   ]
  },
  {
   "cell_type": "code",
   "execution_count": 11,
   "metadata": {},
   "outputs": [],
   "source": [
    "qrelu2 = Q_ReLU(q_conv2)"
   ]
  },
  {
   "cell_type": "code",
   "execution_count": 12,
   "metadata": {},
   "outputs": [],
   "source": [
    "# with open(txt_output_2,\"w+\") as f:\n",
    "#     f.write(f\"haze_img_int8:{qrelu2}\\n\")"
   ]
  },
  {
   "cell_type": "markdown",
   "metadata": {},
   "source": [
    "Concat1计算"
   ]
  },
  {
   "cell_type": "code",
   "execution_count": 13,
   "metadata": {},
   "outputs": [
    {
     "name": "stdout",
     "output_type": "stream",
     "text": [
      "M:[191]\n"
     ]
    }
   ],
   "source": [
    "q_concat1 = requantize(qrelu2,Sy2,Zy2,Sconcat1,Zconcat1)\n",
    "q_concat1 = concat(qrelu1,q_concat1)"
   ]
  },
  {
   "cell_type": "code",
   "execution_count": 14,
   "metadata": {},
   "outputs": [],
   "source": [
    "#Conv3输入\n",
    "# with open(txt_input_3,\"w+\") as f:\n",
    "#     f.write(f\"q_concat1:{q_concat1}\\n\")"
   ]
  },
  {
   "cell_type": "markdown",
   "metadata": {},
   "source": [
    "conv+relu3计算"
   ]
  },
  {
   "cell_type": "code",
   "execution_count": 15,
   "metadata": {},
   "outputs": [
    {
     "name": "stdout",
     "output_type": "stream",
     "text": [
      "M:[[ 741  791 2835]]\n",
      "B:[[  -418     58 -16276]]\n"
     ]
    }
   ],
   "source": [
    "q_conv3 = Q_conv2d_fused(q_concat1,qw3,qb3,Sx3,Zx3,Sw3,Sb3,Sy3,Zy3,conv3_shape,stride=1,padding='SAME')"
   ]
  },
  {
   "cell_type": "code",
   "execution_count": 16,
   "metadata": {},
   "outputs": [],
   "source": [
    "qrelu3 = Q_ReLU(q_conv3)"
   ]
  },
  {
   "cell_type": "code",
   "execution_count": 17,
   "metadata": {},
   "outputs": [],
   "source": [
    "# with open(txt_output_3,\"w+\") as f:\n",
    "#     f.write(f\"haze_img_int8:{qrelu3}\\n\")"
   ]
  },
  {
   "cell_type": "markdown",
   "metadata": {},
   "source": [
    "concat2的计算"
   ]
  },
  {
   "cell_type": "code",
   "execution_count": 18,
   "metadata": {},
   "outputs": [
    {
     "name": "stdout",
     "output_type": "stream",
     "text": [
      "M:[249]\n"
     ]
    }
   ],
   "source": [
    "q_concat2_int_1 = requantize(qrelu3,Sy3,Zy3,Sconcat2,Zconcat2)\n",
    "q_concat2 = concat(qrelu2,q_concat2_int_1)"
   ]
  },
  {
   "cell_type": "code",
   "execution_count": 19,
   "metadata": {},
   "outputs": [],
   "source": [
    "#Conv4输入\n",
    "# with open(txt_input_4,\"w+\") as f:\n",
    "#     f.write(f\"q_concat2:{q_concat2}\\n\")"
   ]
  },
  {
   "cell_type": "markdown",
   "metadata": {},
   "source": [
    "conv+relu4计算"
   ]
  },
  {
   "cell_type": "code",
   "execution_count": 20,
   "metadata": {},
   "outputs": [
    {
     "name": "stdout",
     "output_type": "stream",
     "text": [
      "M:[[401 124 234]]\n",
      "B:[[-277  -35 -659]]\n"
     ]
    }
   ],
   "source": [
    "q_conv4 = Q_conv2d_fused(q_concat2,qw4,qb4,Sx4,Zx4,Sw4,Sb4,Sy4,Zy4,conv4_shape,stride=1,padding='SAME')"
   ]
  },
  {
   "cell_type": "code",
   "execution_count": 21,
   "metadata": {},
   "outputs": [],
   "source": [
    "qrelu4 = Q_ReLU(q_conv4)"
   ]
  },
  {
   "cell_type": "code",
   "execution_count": 22,
   "metadata": {},
   "outputs": [],
   "source": [
    "# with open(txt_output_4,\"w+\") as f:\n",
    "#     f.write(f\"haze_img_int8:{qrelu4}\\n\")"
   ]
  },
  {
   "cell_type": "markdown",
   "metadata": {},
   "source": [
    "Concat3计算"
   ]
  },
  {
   "cell_type": "code",
   "execution_count": 23,
   "metadata": {},
   "outputs": [
    {
     "name": "stdout",
     "output_type": "stream",
     "text": [
      "M:[666]\n"
     ]
    }
   ],
   "source": [
    "q_concat3 = requantize(qrelu4,Sy4,Zy4,Sconcat3,Zconcat3)\n",
    "\n",
    "q_concat3 = concat(qrelu3,q_concat3)"
   ]
  },
  {
   "cell_type": "code",
   "execution_count": 24,
   "metadata": {},
   "outputs": [],
   "source": [
    "#Conv5输入\n",
    "# with open(txt_input_5,\"w+\") as f:\n",
    "#     f.write(f\"q_concat3:{q_concat3}\\n\")"
   ]
  },
  {
   "cell_type": "markdown",
   "metadata": {},
   "source": [
    "conv+relu5计算"
   ]
  },
  {
   "cell_type": "code",
   "execution_count": 25,
   "metadata": {},
   "outputs": [
    {
     "name": "stdout",
     "output_type": "stream",
     "text": [
      "M:[[62 69 65]]\n",
      "B:[[166 168 161]]\n"
     ]
    }
   ],
   "source": [
    "q_conv5 = Q_conv2d_fused(q_concat3,qw5,qb5,Sx5,Zx5,Sw5,Sb5,Sy5,Zy5,conv5_shape,stride=1,padding='SAME')"
   ]
  },
  {
   "cell_type": "code",
   "execution_count": 26,
   "metadata": {},
   "outputs": [],
   "source": [
    "qrelu5 = Q_ReLU(q_conv5)"
   ]
  },
  {
   "cell_type": "code",
   "execution_count": 27,
   "metadata": {},
   "outputs": [],
   "source": [
    "# with open(txt_output_5,\"w+\") as f:\n",
    "#     f.write(f\"haze_img_int8:{qrelu5}\\n\")"
   ]
  },
  {
   "cell_type": "markdown",
   "metadata": {},
   "source": [
    "mul计算"
   ]
  },
  {
   "cell_type": "code",
   "execution_count": 28,
   "metadata": {},
   "outputs": [
    {
     "name": "stdout",
     "output_type": "stream",
     "text": [
      "M:[280]\n"
     ]
    }
   ],
   "source": [
    "q_mul = q_mul_fun(qrelu5,Sy5,Zy5,haze_img_int8,Sx1,Zx1,Smul_out,Zmul_out)"
   ]
  },
  {
   "cell_type": "markdown",
   "metadata": {},
   "source": [
    "sub计算"
   ]
  },
  {
   "cell_type": "code",
   "execution_count": 29,
   "metadata": {},
   "outputs": [
    {
     "name": "stdout",
     "output_type": "stream",
     "text": [
      "qx1.dtype:int8\n",
      "qx2.dtype:int8\n",
      "Sx1/Sy:[1.2318841]\n",
      "Sx2/Sy:[1.34243776]\n",
      "M1:[20183]\n",
      "M2:[-21995]\n",
      "B:[113]\n"
     ]
    }
   ],
   "source": [
    "q_sub = q_sub_fun(q_mul,Smul_out,Zmul_out,qrelu5,Sy5,Zy5,Ssub_out,Zsub_out)"
   ]
  },
  {
   "cell_type": "markdown",
   "metadata": {},
   "source": [
    "add计算"
   ]
  },
  {
   "cell_type": "code",
   "execution_count": 30,
   "metadata": {},
   "outputs": [
    {
     "name": "stdout",
     "output_type": "stream",
     "text": [
      "M:[20488]\n",
      "C:[-32]\n"
     ]
    }
   ],
   "source": [
    "q_add = q_add_fun(q_sub,Ssub_out,Zsub_out,Sadd_out,Zadd_out)\n",
    "q_add_relu = Q_ReLU(q_add)"
   ]
  },
  {
   "cell_type": "markdown",
   "metadata": {},
   "source": [
    "INT8模型输出"
   ]
  },
  {
   "cell_type": "code",
   "execution_count": 31,
   "metadata": {},
   "outputs": [
    {
     "name": "stderr",
     "output_type": "stream",
     "text": [
      "/usr/bin/eog: symbol lookup error: /lib/x86_64-linux-gnu/libgobject-2.0.so.0: undefined symbol: ffi_type_uint32, version LIBFFI_BASE_7.0\n",
      "XPCOMGlueLoad error for file /usr/lib/firefox/libmozgtk.so:\n",
      "/lib/x86_64-linux-gnu/libgobject-2.0.so.0: undefined symbol: ffi_type_uint32, version LIBFFI_BASE_7.0\n",
      "Couldn't load XPCOM.\n",
      "Warning: program returned non-zero exit code #65280\n",
      "XPCOMGlueLoad error for file /usr/lib/firefox/libmozgtk.so:\n",
      "/lib/x86_64-linux-gnu/libgobject-2.0.so.0: undefined symbol: ffi_type_uint32, version LIBFFI_BASE_7.0\n",
      "Couldn't load XPCOM.\n",
      "XPCOMGlueLoad error for file /usr/lib/firefox/libmozgtk.so:\n",
      "/lib/x86_64-linux-gnu/libgobject-2.0.so.0: undefined symbol: ffi_type_uint32, version LIBFFI_BASE_7.0\n",
      "Couldn't load XPCOM.\n",
      "XPCOMGlueLoad error for file /usr/lib/firefox/libmozgtk.so:\n",
      "/lib/x86_64-linux-gnu/libgobject-2.0.so.0: undefined symbol: ffi_type_uint32, version LIBFFI_BASE_7.0\n",
      "Couldn't load XPCOM.\n"
     ]
    },
    {
     "name": "stdout",
     "output_type": "stream",
     "text": [
      "Opening \"/tmp/tmpsdjy2de7.PNG\" with Firefox Web Browser  (image/png)\n"
     ]
    },
    {
     "name": "stderr",
     "output_type": "stream",
     "text": [
      "/usr/bin/xdg-open: 869: iceweasel: not found\n",
      "/usr/bin/xdg-open: 869: seamonkey: not found\n",
      "/usr/bin/xdg-open: 869: mozilla: not found\n",
      "/usr/bin/xdg-open: 869: epiphany: not found\n",
      "/usr/bin/xdg-open: 869: konqueror: not found\n",
      "/usr/bin/xdg-open: 869: chromium: not found\n",
      "/usr/bin/xdg-open: 869: chromium-browser: not found\n",
      "/usr/bin/xdg-open: 869: google-chrome: not found\n",
      "/bin/bash: /home/zwy/miniconda3/lib/libtinfo.so.6: no version information available (required by /bin/bash)\n"
     ]
    }
   ],
   "source": [
    "def array_show_int8(array):\n",
    "    deahze_img = array.astype(np.uint8)\n",
    "    deahze_img = np.squeeze(deahze_img)\n",
    "    img = Image.fromarray(deahze_img.transpose(1,2,0))\n",
    "    img.show()\n",
    "q_img_out= q_add_relu+128\n",
    "\n",
    "array_show_int8(q_img_out)"
   ]
  },
  {
   "cell_type": "code",
   "execution_count": null,
   "metadata": {},
   "outputs": [],
   "source": []
  }
 ],
 "metadata": {
  "kernelspec": {
   "display_name": "Python 3 (ipykernel)",
   "language": "python",
   "name": "python3"
  },
  "language_info": {
   "codemirror_mode": {
    "name": "ipython",
    "version": 3
   },
   "file_extension": ".py",
   "mimetype": "text/x-python",
   "name": "python",
   "nbconvert_exporter": "python",
   "pygments_lexer": "ipython3",
   "version": "3.9.0"
  },
  "vscode": {
   "interpreter": {
    "hash": "5eae0f6eb5edcd3c35f95d2fd6c2338b2997e98463ae7621380ada7f32529b7e"
   }
  }
 },
 "nbformat": 4,
 "nbformat_minor": 2
}
