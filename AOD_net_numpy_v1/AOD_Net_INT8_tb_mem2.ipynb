{
 "cells": [
  {
   "attachments": {},
   "cell_type": "markdown",
   "metadata": {},
   "source": [
    "导入库文件"
   ]
  },
  {
   "cell_type": "code",
   "execution_count": 1,
   "metadata": {},
   "outputs": [],
   "source": [
    "#导入外部库\n",
    "import numpy as np\n",
    "from PIL import Image\n",
    "from tqdm import tqdm\n",
    "\n",
    "#导入自定义文件\n",
    "from utils import *\n",
    "from conv import *\n",
    "from concat import *\n",
    "from relu import *\n",
    "# np.set_#printoptions(threshold=np.inf)\n",
    "# np.set_#printoptions(precision=32, suppress=False, formatter={'float': '{:0.16}'.format})"
   ]
  },
  {
   "attachments": {},
   "cell_type": "markdown",
   "metadata": {},
   "source": [
    "加载FP32、INT8权重"
   ]
  },
  {
   "cell_type": "code",
   "execution_count": 2,
   "metadata": {},
   "outputs": [],
   "source": [
    "from weights_int8 import qw1,Sw1,qw2,Sw2,qw3,Sw3,qw4,Sw4,qw5,Sw5\n",
    "from bias_int8 import qb1,Sb1,qb2,Sb2,qb3,Sb3,qb4,Sb4,qb5,Sb5\n",
    "from inout_int8 import Sconcat1,Zconcat1,Sconcat2,Zconcat2,Sconcat3,Zconcat3,Smul_out,Zmul_out,Ssub_out,Zsub_out,Sadd_out,Zadd_out\n",
    "from inout_int8 import Sy1,Zy1,Sy2,Zy2,Sy3,Zy3,Sy4,Zy4,Sy5,Zy5\n",
    "from inout_int8 import Sx1,Zx1,Sx2,Zx2,Sx3,Zx3,Sx4,Zx4,Sx5,Zx5"
   ]
  },
  {
   "attachments": {},
   "cell_type": "markdown",
   "metadata": {},
   "source": [
    "参数定义"
   ]
  },
  {
   "cell_type": "code",
   "execution_count": 3,
   "metadata": {},
   "outputs": [],
   "source": [
    "img_path=\"./test/img/OTS_2987.jpg\"#输入图片\n",
    "# img_path=\"./test/img/OTS_2995.jpg\"#输入图片\n",
    "\n",
    "txt_dir = \"./test/txt\"#txt文件保存路径\n",
    "txt_input_c1_uint8 = \"./test/txt_hex/in/conv1_in_uint8.txt\"#Conv1输入图片   1x1卷积 1*1*3*8 = 24bit\n",
    "txt_input_c1 = \"./test/txt_hex/in/conv1_in.txt\"#Conv1输入图片   1x1卷积 1*1*3*8 = 24bit\n",
    "txt_input_c2 = \"./test/txt_hex/in/conv2_in.txt\"#Conv2输入特征图 3x3卷积 3*3*3*8 = 216bit\n",
    "txt_input_c3 = \"./test/txt_hex/in/conv3_in.txt\"#Conv3输入特征图 5x5卷积 5*5*6*8 = 1200bit\n",
    "txt_input_c4 = \"./test/txt_hex/in/conv4_in.txt\"#Conv4输入特征图 7x7卷积 7*7*9*8 = 3528bit\n",
    "txt_input_c5 = \"./test/txt_hex/in/conv5_in.txt\"#Conv5输入特征图 3x3卷积 3*3*6*8 = 432bit\n",
    "txt_input_q1 = \"./test/txt_hex/in/quant1_in.txt\"#Concat1/2输入 conv2 --> concat1、concat2\n",
    "txt_input_q2 = \"./test/txt_hex/in/quant2_in.txt\"#Concat2输入 conv3 --> concat2\n",
    "txt_input_q3 = \"./test/txt_hex/in/quant3_in.txt\"#Concat3输入 conv4 --> concat3\n",
    "\n",
    "txt_output_c1 = \"./test/txt_hex/out_python/conv1_out.txt\"#Conv1输出特征图\n",
    "txt_output_c2 = \"./test/txt_hex/out_python/conv2_out.txt\"#Conv2输出特征图 \n",
    "txt_output_c3 = \"./test/txt_hex/out_python/conv3_out.txt\"#Conv3输出特征图\n",
    "txt_output_c4 = \"./test/txt_hex/out_python/conv4_out.txt\"#Conv4输出特征图\n",
    "txt_output_c5 = \"./test/txt_hex/out_python/conv5_out.txt\"#Conv5输出特征图 \n",
    "txt_output_q1 = \"./test/txt_hex/out_python/quant1_out.txt\"#Concat1/2输出 conv2 --> concat1、concat2\n",
    "txt_output_q2 = \"./test/txt_hex/out_python/quant2_out.txt\"#Concat2输出 conv3 --> concat2\n",
    "txt_output_q3 = \"./test/txt_hex/out_python/quant3_out.txt\"#Concat3输出 conv4 --> concat3\n",
    "\n",
    "txt_output_c1_hex = \"./test/txt_hex/out_python/conv1_out_hex.txt\"#Conv1输出特征图\n",
    "txt_output_c2_hex = \"./test/txt_hex/out_python/conv2_out_hex.txt\"#Conv2输出特征图 \n",
    "txt_output_c3_hex = \"./test/txt_hex/out_python/conv3_out_hex.txt\"#Conv3输出特征图\n",
    "txt_output_c4_hex = \"./test/txt_hex/out_python/conv4_out_hex.txt\"#Conv4输出特征图\n",
    "txt_output_c5_hex = \"./test/txt_hex/out_python/conv5_out_hex.txt\"#Conv5输出特征图 \n",
    "txt_output_result = \"./test/txt_hex/out_python/result.txt\"#后处理特征图 txt_output_result\n",
    "txt_output_result_mul = \"./test/txt_hex/out_python/result_mul.txt\"\n",
    "txt_output_result_sub = \"./test/txt_hex/out_python/result_sub.txt\"\n",
    "#filter_shape=(output_channel,input_channel,filter_size)\n",
    "#               输出通道数      输入通道数     卷积核大小\n",
    "conv1_shape = (3,3,1)\n",
    "conv2_shape = (3,3,3)\n",
    "conv3_shape = (3,6,5)\n",
    "conv4_shape = (3,6,7)\n",
    "conv5_shape = (3,6,3)\n",
    "#conv_value=(Kernel_size,stride,padding)\n",
    "conv1_value = (1,1,0)\n",
    "conv2_value = (3,1,1)\n",
    "conv3_value = (5,1,2)\n",
    "conv4_value = (7,1,3)\n",
    "conv5_value = (3,1,1)"
   ]
  },
  {
   "attachments": {},
   "cell_type": "markdown",
   "metadata": {},
   "source": [
    "testbench生成函数"
   ]
  },
  {
   "cell_type": "code",
   "execution_count": 7,
   "metadata": {},
   "outputs": [],
   "source": [
    "def dec2hex(dec_num,bit_length=8):\n",
    "    \"\"\"十进制有符号数转十六进制补码\"\"\"\n",
    "    if dec_num < 0:\n",
    "        dec_num += 1 << bit_length\n",
    "    # 将无符号的二进制补码转换为十六进制格式\n",
    "    # hex_num = hex(dec_num)[-3:-1]\n",
    "    # hex_num = hex(dec_num)[2:]\n",
    "    if dec_num <= 0xf:  # 忽略前缀'0x'\n",
    "        hex_num = \"0\"+str(hex(dec_num)[2:])\n",
    "    else:\n",
    "        hex_num = hex(dec_num)[2:]\n",
    "    return hex_num\n",
    "\n",
    "#选取卷积输入特征图滑窗并产生输入测试向量(十六进制)\n",
    "def tb_gen(img,txt_save_path,kernel_size,stride,padding):\n",
    "    \"\"\"\n",
    "    img:输入(N,C,H,W)格式图片\n",
    "    txt_save_path:testbench语句写入脚本\n",
    "    kernel_size:卷积核尺寸\n",
    "    stride:滑窗步长\n",
    "    padding:补零边数\n",
    "    \"\"\"\n",
    "    #padding添加\n",
    "    hazy_image = np.lib.pad(img, ((0,0),(0,0),(padding,padding),(padding,padding)),\"constant\",constant_values=(0,0))\n",
    "    #print(f\"haze_image.shape:{hazy_image.shape}\")#(1,3,482,642)\n",
    "\n",
    "    #获取图片尺寸信息\n",
    "    N,C,H,W = hazy_image.shape\n",
    "    #print(f\"N:{N},C:{C},H:{H},W:{W}\")\n",
    "\n",
    "    #得到滑窗个数计算\n",
    "    num_w = int((W - kernel_size + 2*padding) / stride + 1)\n",
    "    num_h = int((H - kernel_size + 2*padding) / stride + 1)\n",
    "    #print(f\"num_w:{num_w}\")\n",
    "    #print(f\"num_h:{num_h}\")\n",
    "\n",
    "    #滑窗选取\n",
    "    with open(txt_save_path,\"w+\") as f:\n",
    "        for i in tqdm(range(0,num_h-kernel_size+1,stride)):#H 480\n",
    "            for j in range(0,num_w-kernel_size+1,stride):#W 640\n",
    "                window = hazy_image[:,:,i:i + kernel_size,j :j + kernel_size]#NCHW\n",
    "                #将一个滑窗的数据转化为testbench中的赋值语句\n",
    "                for data_CHW in window:#取出CHW\n",
    "                    data_HWC = data_CHW.transpose(1,2,0)#CHW -> HWC\n",
    "                    for data_WC in data_HWC:#取出WC\n",
    "                        for data_C in data_WC:#取出C\n",
    "                            for data in data_C:\n",
    "                                # #print(data)\n",
    "                                f.write(\"{}\".format(dec2hex(data)))\n",
    "                            # f.write(\",\")\n",
    "                f.write(\"\\n\")\n",
    "\n",
    "    print(\"testbench生成完毕！\")\n",
    "    \n",
    "#产生卷积输出结果\n",
    "def result_gen(img,txt_save_path):\n",
    "    \"\"\"\n",
    "    img:输入(N,C,H,W)格式图片\n",
    "    txt_save_path:testbench语句写入脚本\n",
    "    \"\"\"\n",
    "    #获取图片尺寸信息\n",
    "    N,C,H,W = img.shape\n",
    "    #print(f\"N:{N},C:{C},H:{H},W:{W}\")\n",
    "\n",
    "    #得到滑窗个数计算\n",
    "    num_w = int(W)\n",
    "    num_h = int(H)\n",
    "    #print(f\"num_w:{num_w}\")\n",
    "    #print(f\"num_h:{num_h}\")\n",
    "\n",
    "    #滑窗选取\n",
    "    with open(txt_save_path,\"w+\") as f:\n",
    "        for i in tqdm(range(0,num_h,1)):#H\n",
    "            for j in range(0,num_w,1):#W\n",
    "                window = img[:,:,i:i + 1,j :j + 1]#NCHW\n",
    "                #将一个滑窗的数据转化为testbench中的赋值语句\n",
    "                for data_CHW in window:#取出CHW\n",
    "                    # data_CHW = data_CHW.transpose(1,2,0)#CHW -> HWC\n",
    "                    for k in range(len(data_CHW)):#取出HW\n",
    "                        for data_w in data_CHW[k]:#取出W\n",
    "                            for data in data_w:\n",
    "                                f.write(\"{}\".format(data))\n",
    "                        if k != len(data_CHW)-1:\n",
    "                            f.write(\",\")\n",
    "                        # #print(f\"{k}/{len(data_CHW)}\")\n",
    "                f.write(\"\\n\")\n",
    "    print(\"output生成完毕！\")\n",
    "\n",
    "#产生Quantize输入(hex=True)和输出(hex=False)的文件\n",
    "def concat_gen(img,txt_save_path,hex = True):\n",
    "    \"\"\"\n",
    "    img:输入(N,C,H,W)格式图片\n",
    "    txt_save_path:testbench语句写入脚本\n",
    "    \"\"\"\n",
    "    #获取图片尺寸信息\n",
    "    N,C,H,W = img.shape\n",
    "    print(f\"N:{N},C:{C},H:{H},W:{W}\")\n",
    "\n",
    "    #得到滑窗个数计算\n",
    "    num_w = int((W - 1) / 1 + 1)\n",
    "    num_h = int((H - 1) / 1 + 1)\n",
    "    print(f\"num_w:{num_w}\")\n",
    "    print(f\"num_h:{num_h}\")\n",
    "\n",
    "    #滑窗选取\n",
    "    with open(txt_save_path,\"w+\") as f:\n",
    "        for i in tqdm(range(0,num_h-1+1,1)):#H\n",
    "            for j in (range(0,num_w-1+1,1)):#W\n",
    "                window = img[:,:,i:i + 1,j :j + 1]#NCHW\n",
    "                #将一个滑窗的数据转化为testbench中的赋值语句\n",
    "                for data_CHW in window:#取出CHW\n",
    "                    # data_CHW = data_CHW.transpose(1,2,0)#CHW -> HWC\n",
    "                    for k in range(len(data_CHW)):#取出HW\n",
    "                        for data_w in data_CHW[k]:#取出W\n",
    "                            for data in data_w:\n",
    "                                if hex:\n",
    "                                    f.write(\"{}\\n\".format(dec2hex(data)))\n",
    "                                else:\n",
    "                                    f.write(\"{}\\n\".format(data))\n",
    "    print(\"concat输入生成完毕！\")\n",
    "\n",
    "#产生卷积输出结果\n",
    "def result_gen_hex(img,txt_save_path):\n",
    "    \"\"\"\n",
    "    img:输入(N,C,H,W)格式图片\n",
    "    txt_save_path:testbench语句写入脚本\n",
    "    \"\"\"\n",
    "    #获取图片尺寸信息\n",
    "    N,C,H,W = img.shape\n",
    "    #print(f\"N:{N},C:{C},H:{H},W:{W}\")\n",
    "\n",
    "    #得到滑窗个数计算\n",
    "    num_w = int(W)\n",
    "    num_h = int(H)\n",
    "    #print(f\"num_w:{num_w}\")\n",
    "    #print(f\"num_h:{num_h}\")\n",
    "\n",
    "    #滑窗选取\n",
    "    with open(txt_save_path,\"w+\") as f:\n",
    "        for i in tqdm(range(0,num_h,1)):#H\n",
    "            for j in range(0,num_w,1):#W\n",
    "                window = img[:,:,i:i + 1,j :j + 1]#NCHW\n",
    "                #将一个滑窗的数据转化为testbench中的赋值语句\n",
    "                for data_CHW in window:#取出CHW\n",
    "                    # data_CHW = data_CHW.transpose(1,2,0)#CHW -> HWC\n",
    "                    for k in range(len(data_CHW)):#取出HW\n",
    "                        for data_w in data_CHW[k]:#取出W\n",
    "                            for data in data_w:\n",
    "                                f.write(\"{}\".format(dec2hex(data)))\n",
    "                        # if k != len(data_CHW)-1:\n",
    "                        #     # f.write(\",\")\n",
    "                        # #print(f\"{k}/{len(data_CHW)}\")\n",
    "                f.write(\"\\n\")\n",
    "    print(\"output生成完毕！\")"
   ]
  },
  {
   "attachments": {},
   "cell_type": "markdown",
   "metadata": {},
   "source": [
    "加载图像"
   ]
  },
  {
   "cell_type": "code",
   "execution_count": 8,
   "metadata": {},
   "outputs": [],
   "source": [
    "hazy_input_image = Image.open(\"./test/img/OTS_2987.png\")#图像加载\n",
    "hazy_input_image = hazy_input_image.resize((640, 480))\n",
    "hazy_image = (np.asarray(hazy_input_image))\n",
    "hazy_image = hazy_image.transpose(2,0,1)#HWC -> CHW\n",
    "hazy_image = np.expand_dims(hazy_image,axis=0)#增加一个新的维度batch_size (batch_size,C,H,W)\n",
    "#print(f\"haze_image.shape:{hazy_image.shape}\")\n",
    "#print(f\"haze_image.dtype:{hazy_image.dtype}\")"
   ]
  },
  {
   "cell_type": "code",
   "execution_count": 9,
   "metadata": {},
   "outputs": [],
   "source": [
    "# img = Image.open(img_path)\n",
    "# img = img.resize((640,480))\n",
    "# img = img.convert('RGB')\n",
    "# # img_path=\"./test/img/OTS_2987.jpg\"#输入图片\n",
    "# img.save( \"./test/img/OTS_2987.png\", 'PNG')"
   ]
  },
  {
   "attachments": {},
   "cell_type": "markdown",
   "metadata": {},
   "source": [
    "输入图片量化"
   ]
  },
  {
   "cell_type": "code",
   "execution_count": 10,
   "metadata": {},
   "outputs": [
    {
     "name": "stdout",
     "output_type": "stream",
     "text": [
      "haze_img_int8:[[[[ 13  13  13 ...  26  26  26]\n",
      "   [ 13  13  13 ...  26  26  26]\n",
      "   [ 13  13  13 ...  26  26  26]\n",
      "   ...\n",
      "   [ -2  -1   0 ...   0 -13 -21]\n",
      "   [ -2   0   1 ...   1 -12 -20]\n",
      "   [ -2   0   1 ...   2 -11 -19]]\n",
      "\n",
      "  [[ 57  57  57 ...  63  63  63]\n",
      "   [ 57  57  57 ...  63  63  63]\n",
      "   [ 57  57  57 ...  63  63  63]\n",
      "   ...\n",
      "   [ 31  32  33 ...   5  -8 -16]\n",
      "   [ 31  33  34 ...   6  -7 -15]\n",
      "   [ 31  33  34 ...   7  -6 -14]]\n",
      "\n",
      "  [[ 84  84  84 ...  90  90  90]\n",
      "   [ 84  84  84 ...  90  90  90]\n",
      "   [ 84  84  84 ...  90  90  90]\n",
      "   ...\n",
      "   [ 46  47  48 ... -25 -38 -46]\n",
      "   [ 46  48  49 ... -24 -37 -45]\n",
      "   [ 46  48  49 ... -23 -36 -44]]]]\n"
     ]
    }
   ],
   "source": [
    "haze_img_int8 = (hazy_image-128).astype(np.int8)\n",
    "print(f\"haze_img_int8:{haze_img_int8}\")"
   ]
  },
  {
   "attachments": {},
   "cell_type": "markdown",
   "metadata": {},
   "source": [
    "Conv1输入testbench"
   ]
  },
  {
   "cell_type": "code",
   "execution_count": null,
   "metadata": {},
   "outputs": [
    {
     "name": "stderr",
     "output_type": "stream",
     "text": [
      "100%|██████████| 960/960 [00:10<00:00, 93.66it/s]"
     ]
    },
    {
     "name": "stdout",
     "output_type": "stream",
     "text": [
      "testbench生成完毕！\n"
     ]
    },
    {
     "name": "stderr",
     "output_type": "stream",
     "text": [
      "\n"
     ]
    }
   ],
   "source": [
    "# tb_gen(hazy_image,txt_input_c1_uint8,conv1_value[0],conv1_value[1],conv1_value[2])\n",
    "tb_gen(haze_img_int8,txt_input_c1,conv1_value[0],conv1_value[1],conv1_value[2])"
   ]
  },
  {
   "attachments": {},
   "cell_type": "markdown",
   "metadata": {},
   "source": [
    "conv-relu1计算"
   ]
  },
  {
   "attachments": {},
   "cell_type": "markdown",
   "metadata": {},
   "source": [
    "量化卷积计算int8*int8+int32 -> int32"
   ]
  },
  {
   "cell_type": "code",
   "execution_count": 11,
   "metadata": {},
   "outputs": [
    {
     "name": "stdout",
     "output_type": "stream",
     "text": [
      "q_conv1:[[[[-146 -146 -146 ... -144 -144 -144]\n",
      "   [-146 -146 -146 ... -144 -144 -144]\n",
      "   [-146 -146 -146 ... -144 -144 -144]\n",
      "   ...\n",
      "   [-109 -110 -110 ...  -17  -10   -6]\n",
      "   [-109 -110 -111 ...  -17  -11   -7]\n",
      "   [-109 -110 -111 ...  -18  -11   -7]]\n",
      "\n",
      "  [[-168 -168 -168 ... -164 -164 -164]\n",
      "   [-168 -168 -168 ... -164 -164 -164]\n",
      "   [-168 -168 -168 ... -164 -164 -164]\n",
      "   ...\n",
      "   [-145 -146 -146 ...  -97  -92  -89]\n",
      "   [-145 -146 -146 ...  -98  -93  -90]\n",
      "   [-145 -146 -146 ...  -98  -93  -90]]\n",
      "\n",
      "  [[-120 -120 -120 ... -134 -134 -134]\n",
      "   [-120 -120 -120 ... -134 -134 -134]\n",
      "   [-120 -120 -120 ... -134 -134 -134]\n",
      "   ...\n",
      "   [-106 -107 -108 ... -128 -112 -103]\n",
      "   [-106 -108 -110 ... -130 -114 -104]\n",
      "   [-106 -108 -110 ... -131 -115 -105]]]]\n",
      "q_conv1.shape:(1, 3, 480, 640)\n",
      "q_conv1.dtype:int32\n"
     ]
    }
   ],
   "source": [
    "q_conv1 = Q_conv2d_fused(haze_img_int8,qw1,qb1,Sx1,Zx1,Sw1,Sb1,Sy1,Zy1,conv1_shape,stride=1,padding='SAME',const_num=Zx1)\n",
    "print(f\"q_conv1:{q_conv1}\")\n",
    "print(f\"q_conv1.shape:{q_conv1.shape}\")\n",
    "print(f\"q_conv1.dtype:{q_conv1.dtype}\")"
   ]
  },
  {
   "attachments": {},
   "cell_type": "markdown",
   "metadata": {},
   "source": [
    "relu1计算"
   ]
  },
  {
   "cell_type": "code",
   "execution_count": 12,
   "metadata": {},
   "outputs": [],
   "source": [
    "qrelu1 = Q_ReLU(q_conv1)\n",
    "#print(f\"qrelu1:{qrelu1}\")\n",
    "#print(f\"qrelu1.shape:{qrelu1.shape}\")\n",
    "#print(f\"qrelu1.dtype:{qrelu1.dtype}\")"
   ]
  },
  {
   "attachments": {},
   "cell_type": "markdown",
   "metadata": {},
   "source": [
    "conv输出写入txt文件"
   ]
  },
  {
   "cell_type": "code",
   "execution_count": null,
   "metadata": {},
   "outputs": [
    {
     "name": "stderr",
     "output_type": "stream",
     "text": [
      "100%|██████████| 480/480 [00:03<00:00, 153.99it/s]"
     ]
    },
    {
     "name": "stdout",
     "output_type": "stream",
     "text": [
      "output生成完毕！\n"
     ]
    },
    {
     "name": "stderr",
     "output_type": "stream",
     "text": [
      "\n"
     ]
    }
   ],
   "source": [
    "# result_gen_hex(qrelu1,txt_output_c1)"
   ]
  },
  {
   "attachments": {},
   "cell_type": "markdown",
   "metadata": {},
   "source": [
    "Conv2输入testbench"
   ]
  },
  {
   "cell_type": "code",
   "execution_count": null,
   "metadata": {},
   "outputs": [
    {
     "name": "stderr",
     "output_type": "stream",
     "text": [
      "100%|██████████| 480/480 [00:18<00:00, 25.77it/s]"
     ]
    },
    {
     "name": "stdout",
     "output_type": "stream",
     "text": [
      "testbench生成完毕！\n"
     ]
    },
    {
     "name": "stderr",
     "output_type": "stream",
     "text": [
      "\n"
     ]
    }
   ],
   "source": [
    "# tb_gen(qrelu1,txt_input_c2,conv2_value[0],conv2_value[1],conv2_value[2])"
   ]
  },
  {
   "attachments": {},
   "cell_type": "markdown",
   "metadata": {},
   "source": [
    "conv-relu2计算"
   ]
  },
  {
   "cell_type": "code",
   "execution_count": null,
   "metadata": {},
   "outputs": [],
   "source": [
    "#print(f\"qrelu1.dtype:{qrelu1.dtype}\")#q_x2\n",
    "#print(f\"qw2.dtype:{qw2.dtype}\")"
   ]
  },
  {
   "cell_type": "code",
   "execution_count": 16,
   "metadata": {},
   "outputs": [],
   "source": [
    "q_conv2 = Q_conv2d_fused(qrelu1,qw2,qb2,Sx2,Zx2,Sw2,Sb2,Sy2,Zy2,conv2_shape,stride=1,padding='SAME',const_num=Zx2)\n",
    "#print(f\"q_conv2:{q_conv2}\")\n",
    "#print(f\"q_conv2.shape:{q_conv2.shape}\")\n",
    "#print(f\"q_conv2.dtype:{q_conv2.dtype}\")"
   ]
  },
  {
   "cell_type": "code",
   "execution_count": 17,
   "metadata": {},
   "outputs": [],
   "source": [
    "qrelu2 = Q_ReLU(q_conv2)\n",
    "\n",
    "#print(f\"qrelu2:{qrelu2}\")\n",
    "#print(f\"qrelu2.shape:{qrelu2.shape}\")\n",
    "#print(f\"qrelu2.dtype:{qrelu2.dtype}\")"
   ]
  },
  {
   "cell_type": "code",
   "execution_count": null,
   "metadata": {},
   "outputs": [
    {
     "name": "stderr",
     "output_type": "stream",
     "text": [
      "100%|██████████| 480/480 [00:03<00:00, 155.85it/s]"
     ]
    },
    {
     "name": "stdout",
     "output_type": "stream",
     "text": [
      "output生成完毕！\n"
     ]
    },
    {
     "name": "stderr",
     "output_type": "stream",
     "text": [
      "\n"
     ]
    }
   ],
   "source": [
    "# result_gen_hex(qrelu2,txt_output_c2)"
   ]
  },
  {
   "attachments": {},
   "cell_type": "markdown",
   "metadata": {},
   "source": [
    "Concat1计算"
   ]
  },
  {
   "cell_type": "code",
   "execution_count": 18,
   "metadata": {},
   "outputs": [],
   "source": [
    "#concat_gen(qrelu2,txt_input_q1)\n",
    "q_concat1 = requantize(qrelu2,Sy2,Zy2,Sconcat1,Zconcat1)\n",
    "#concat_gen(q_concat1,txt_output_q1,hex = False)\n",
    "# result_gen_hex(q_concat1,\"./Buffer_test/Python_hex/requantize_conv2_out.txt\")\n",
    "# tb_gen(q_concat1,\"./Buffer_test/Python_hex/concat1_in_2_ram.txt\",conv3_value[0],conv3_value[1],conv3_value[2])\n",
    "\n",
    "# result_gen_hex(qrelu1,\"./Buffer_test/Python_hex/conv1_out.txt\")\n",
    "# tb_gen(qrelu1,\"./Buffer_test/Python_hex/concat1_in_1_ram.txt\",conv3_value[0],conv3_value[1],conv3_value[2])\n",
    "#print(f\"q_concat1:{q_concat1}\")\n",
    "q_concat1 = concat(qrelu1,q_concat1)\n",
    "#print(f\"q_concat1:{q_concat1}\")\n",
    "#print(f\"q_concat1.shape:{q_concat1.shape}\")\n",
    "#print(f\"q_concat1.dtype:{q_concat1.dtype}\")"
   ]
  },
  {
   "attachments": {},
   "cell_type": "markdown",
   "metadata": {},
   "source": [
    "Conv3输入testbench"
   ]
  },
  {
   "cell_type": "code",
   "execution_count": null,
   "metadata": {},
   "outputs": [],
   "source": [
    "# tb_gen(q_concat1,\"./Buffer_test/Python_hex/conv3_in.txt\",conv3_value[0],conv3_value[1],conv3_value[2])"
   ]
  },
  {
   "attachments": {},
   "cell_type": "markdown",
   "metadata": {},
   "source": [
    "conv+relu3计算"
   ]
  },
  {
   "cell_type": "code",
   "execution_count": null,
   "metadata": {},
   "outputs": [],
   "source": [
    "#print(f\"q_concat1.dtype:{q_concat1.dtype}\")\n",
    "#print(f\"qw3.dtype:{qw3.dtype}\")"
   ]
  },
  {
   "cell_type": "code",
   "execution_count": 19,
   "metadata": {},
   "outputs": [],
   "source": [
    "q_conv3 = Q_conv2d_fused(q_concat1,qw3,qb3,Sx3,Zx3,Sw3,Sb3,Sy3,Zy3,conv3_shape,stride=1,padding='SAME',const_num=Zx3)\n",
    "#print(f\"q_conv3:{q_conv3}\")\n",
    "#print(f\"q_conv3.shape:{q_conv3.shape}\")\n",
    "#print(f\"q_conv3.dtype:{q_conv3.dtype}\")"
   ]
  },
  {
   "cell_type": "code",
   "execution_count": 20,
   "metadata": {},
   "outputs": [],
   "source": [
    "qrelu3 = Q_ReLU(q_conv3)\n",
    "#print(f\"qrelu3:{qrelu3}\")\n",
    "#print(f\"qrelu3.shape:{qrelu3.shape}\")\n",
    "#print(f\"qrelu3.dtype:{qrelu3.dtype}\")"
   ]
  },
  {
   "cell_type": "code",
   "execution_count": null,
   "metadata": {},
   "outputs": [],
   "source": [
    "# result_gen_hex(qrelu3,txt_output_c3)"
   ]
  },
  {
   "attachments": {},
   "cell_type": "markdown",
   "metadata": {},
   "source": [
    "concat2的计算"
   ]
  },
  {
   "cell_type": "code",
   "execution_count": 21,
   "metadata": {},
   "outputs": [],
   "source": [
    "# concat_gen(qrelu3,txt_input_q2)\n",
    "q_concat2_int_1 = requantize(qrelu3,Sy3,Zy3,Sconcat2,Zconcat2)\n",
    "#concat_gen(q_concat2_int_1,txt_output_q2,hex = False)\n",
    "# tb_gen(q_concat2_int_1,\"../Buffer_test/Python_hex/concat2_in_3_ram.txt\",conv4_value[0],conv4_value[1],conv4_value[2])\n",
    "# result_gen_hex(q_concat2_int_1,\"./Buffer_test/Python_hex/requantize_conv3_out.txt\")\n",
    "# tb_gen(qrelu2,\"./Buffer_test/Python_hex/concat2_in_2_ram.txt\",conv4_value[0],conv4_value[1],conv4_value[2])\n",
    "# result_gen_hex(q_concat2_int_1,\"./Buffer_test/Python_hex/requanize_conv3_out.txt\")\n",
    "q_concat2 = concat(qrelu2,q_concat2_int_1)\n",
    "#print(f\"q_concat2.shape:{q_concat2.shape}\")"
   ]
  },
  {
   "attachments": {},
   "cell_type": "markdown",
   "metadata": {},
   "source": [
    "Conv4输入testbench"
   ]
  },
  {
   "cell_type": "code",
   "execution_count": 22,
   "metadata": {},
   "outputs": [],
   "source": [
    "# tb_gen(q_concat2,txt_input_c4,conv4_value[0],conv4_value[1],conv4_value[2])"
   ]
  },
  {
   "attachments": {},
   "cell_type": "markdown",
   "metadata": {},
   "source": [
    "conv+relu4计算"
   ]
  },
  {
   "cell_type": "code",
   "execution_count": 23,
   "metadata": {},
   "outputs": [],
   "source": [
    "#print(f\"q_concat2.dtype:{q_concat2.dtype}\")\n",
    "#print(f\"qw4.dtype:{qw4.dtype}\")"
   ]
  },
  {
   "cell_type": "code",
   "execution_count": 24,
   "metadata": {},
   "outputs": [],
   "source": [
    "q_conv4 = Q_conv2d_fused(q_concat2,qw4,qb4,Sx4,Zx4,Sw4,Sb4,Sy4,Zy4,conv4_shape,stride=1,padding='SAME',const_num=Zx4)\n",
    "#print(f\"q_conv4:{q_conv4}\")\n",
    "#print(f\"q_conv4.shape:{q_conv4.shape}\")\n",
    "#print(f\"q_conv4.dtype:{q_conv4.dtype}\")"
   ]
  },
  {
   "cell_type": "code",
   "execution_count": 25,
   "metadata": {},
   "outputs": [],
   "source": [
    "qrelu4 = Q_ReLU(q_conv4)\n",
    "#print(f\"qrelu4:{qrelu4}\")\n",
    "#print(f\"qrelu4.shape:{qrelu4.shape}\")\n",
    "#print(f\"qrelu4.dtype:{qrelu4.dtype}\")"
   ]
  },
  {
   "cell_type": "code",
   "execution_count": 26,
   "metadata": {},
   "outputs": [],
   "source": [
    "# result_gen_hex(qrelu4,txt_output_c4)"
   ]
  },
  {
   "attachments": {},
   "cell_type": "markdown",
   "metadata": {},
   "source": [
    "Concat3计算"
   ]
  },
  {
   "cell_type": "code",
   "execution_count": 27,
   "metadata": {},
   "outputs": [],
   "source": [
    "#concat_gen(qrelu4,txt_input_q3)\n",
    "q_concat3 = requantize(qrelu4,Sy4,Zy4,Sconcat3,Zconcat3)\n",
    "# result_gen_hex(q_concat3,\"./Buffer_test/Python_hex/requantize_conv4_out.txt\")\n",
    "# tb_gen(q_concat3,\"./Buffer_test/Python_hex/concat3_in_4_ram.txt\",conv5_value[0],conv5_value[1],conv5_value[2])\n",
    "\n",
    "# tb_gen(qrelu3,\"./Buffer_test/Python_hex/concat3_in_3_ram.txt\",conv5_value[0],conv5_value[1],conv5_value[2])\n",
    "q_concat3 = concat(qrelu3,q_concat3)\n",
    "#print(f\"q_concat3:{q_concat3}\")\n",
    "#print(f\"q_concat3.shape:{q_concat3.shape}\")\n",
    "#print(f\"q_concat3.dtype:{q_concat3.dtype}\")"
   ]
  },
  {
   "attachments": {},
   "cell_type": "markdown",
   "metadata": {},
   "source": [
    "Conv5输入testbench"
   ]
  },
  {
   "cell_type": "code",
   "execution_count": 28,
   "metadata": {},
   "outputs": [],
   "source": [
    "# tb_gen(q_concat3,txt_input_c5,conv5_value[0],conv5_value[1],conv5_value[2])"
   ]
  },
  {
   "attachments": {},
   "cell_type": "markdown",
   "metadata": {},
   "source": [
    "conv+relu5计算"
   ]
  },
  {
   "cell_type": "code",
   "execution_count": 29,
   "metadata": {},
   "outputs": [],
   "source": [
    "#print(f\"q_concat3.dtype:{q_concat3.dtype}\")\n",
    "#print(f\"qw5.dtype:{qw5.dtype}\")"
   ]
  },
  {
   "cell_type": "code",
   "execution_count": 30,
   "metadata": {},
   "outputs": [],
   "source": [
    "q_conv5 = Q_conv2d_fused(q_concat3,qw5,qb5,Sx5,Zx5,Sw5,Sb5,Sy5,Zy5,conv5_shape,stride=1,padding='SAME',const_num=Zx5)\n",
    "#print(f\"q_conv5:{q_conv5}\")\n",
    "#print(f\"q_conv5.shape:{q_conv5.shape}\")\n",
    "#print(f\"q_conv5.dtype:{q_conv5.dtype}\")"
   ]
  },
  {
   "cell_type": "code",
   "execution_count": 31,
   "metadata": {},
   "outputs": [
    {
     "name": "stdout",
     "output_type": "stream",
     "text": [
      "qrelu5:[[[[13 27 40 ... 39 40 19]\n",
      "   [27 63 67 ... 73 70 61]\n",
      "   [35 63 67 ... 78 72 61]\n",
      "   ...\n",
      "   [34 54 64 ... 75 76 62]\n",
      "   [49 62 71 ... 75 74 54]\n",
      "   [13 50 50 ... 52 49 44]]\n",
      "\n",
      "  [[ 5 32 38 ... 39 39 25]\n",
      "   [23 63 69 ... 73 68 58]\n",
      "   [28 62 68 ... 77 69 59]\n",
      "   ...\n",
      "   [29 60 59 ... 76 73 57]\n",
      "   [35 59 73 ... 76 72 57]\n",
      "   [26 43 56 ... 52 47 28]]\n",
      "\n",
      "  [[ 8 36 40 ... 40 40 33]\n",
      "   [29 61 70 ... 71 66 55]\n",
      "   [31 62 68 ... 76 70 57]\n",
      "   ...\n",
      "   [35 51 65 ... 74 69 55]\n",
      "   [33 63 65 ... 75 68 55]\n",
      "   [20 41 52 ... 52 46 20]]]]\n"
     ]
    }
   ],
   "source": [
    "qrelu5 = Q_ReLU(q_conv5)\n",
    "print(f\"qrelu5:{qrelu5}\")\n",
    "#print(f\"qrelu5.shape:{qrelu5.shape}\")\n",
    "#print(f\"qrelu5.dtype:{qrelu5.dtype}\")"
   ]
  },
  {
   "cell_type": "code",
   "execution_count": 32,
   "metadata": {},
   "outputs": [],
   "source": [
    "# result_gen(qrelu5,txt_output_c5)\n",
    "# result_gen_hex(qrelu5,txt_output_c5)\n",
    "# result_gen_hex(qrelu5,txt_output_c5_hex)\n",
    "# result_gen_hex(qrelu5+128,txt_output_result_mul)"
   ]
  },
  {
   "attachments": {},
   "cell_type": "markdown",
   "metadata": {},
   "source": [
    "mul计算"
   ]
  },
  {
   "cell_type": "code",
   "execution_count": 33,
   "metadata": {},
   "outputs": [],
   "source": [
    "q_mul = q_mul_fun(qrelu5,Sy5,Zy5,haze_img_int8,Sx1,Zx1,Smul_out,Zmul_out)\n",
    "# print(f\"q_mul:{q_mul}\")\n",
    "#print(f\"q_mul.dtype:{q_mul.dtype}\")\n",
    "# result_gen_hex(q_mul , txt_output_result_mul)"
   ]
  },
  {
   "attachments": {},
   "cell_type": "markdown",
   "metadata": {},
   "source": [
    "sub计算"
   ]
  },
  {
   "cell_type": "code",
   "execution_count": 34,
   "metadata": {},
   "outputs": [],
   "source": [
    "q_sub = q_sub_fun(q_mul,Smul_out,Zmul_out,qrelu5,Sy5,Zy5,Ssub_out,Zsub_out)\n",
    "# print(f\"q_sub:{q_sub}\")\n",
    "# result_gen_hex(q_sub , txt_output_result_sub)"
   ]
  },
  {
   "attachments": {},
   "cell_type": "markdown",
   "metadata": {},
   "source": [
    "add计算"
   ]
  },
  {
   "cell_type": "code",
   "execution_count": 35,
   "metadata": {},
   "outputs": [
    {
     "name": "stdout",
     "output_type": "stream",
     "text": [
      "q_add:\n",
      "[[[[  8  -5 -16 ... -14 -16   3]\n",
      "   [ -5 -35 -39 ... -44 -40 -32]\n",
      "   [-11 -35 -39 ... -48 -43 -32]\n",
      "   ...\n",
      "   [-10 -25 -35 ... -44 -45 -35]\n",
      "   [-24 -35 -41 ... -44 -44 -27]\n",
      "   [  8 -24 -24 ... -25 -24 -17]]\n",
      "\n",
      "  [[ 14  -9 -14 ... -14 -14  -2]\n",
      "   [ -1 -35 -40 ... -44 -39 -31]\n",
      "   [ -5 -35 -39 ... -46 -40 -31]\n",
      "   ...\n",
      "   [ -6 -32 -31 ... -45 -44 -29]\n",
      "   [-11 -31 -44 ... -45 -43 -29]\n",
      "   [ -4 -17 -29 ... -25 -21  -5]]\n",
      "\n",
      "  [[ 11 -12 -16 ... -16 -16  -9]\n",
      "   [ -6 -32 -40 ... -41 -36 -27]\n",
      "   [ -9 -35 -39 ... -45 -40 -29]\n",
      "   ...\n",
      "   [-11 -25 -36 ... -44 -40 -27]\n",
      "   [ -9 -35 -36 ... -44 -39 -27]\n",
      "   [  1 -16 -25 ... -25 -20   1]]]]\n"
     ]
    }
   ],
   "source": [
    "q_add = q_add_fun(q_sub,Ssub_out,Zsub_out,Sadd_out,Zadd_out)\n",
    "print(f\"q_add:\\n{q_add}\")\n",
    "q_add_relu = Q_ReLU(q_add)\n",
    "#print(f\"q_add_relu:\\n{q_add_relu}\")"
   ]
  },
  {
   "cell_type": "code",
   "execution_count": 36,
   "metadata": {},
   "outputs": [],
   "source": [
    "# result_gen(q_add_relu,txt_output_result)\n",
    "# result_gen(q_add,txt_output_result)\n",
    "# result_gen_hex(q_add_relu,\"./Buffer_test/Python_hex/result.txt\")"
   ]
  },
  {
   "attachments": {},
   "cell_type": "markdown",
   "metadata": {},
   "source": [
    "INT8模型输出"
   ]
  },
  {
   "cell_type": "code",
   "execution_count": 37,
   "metadata": {},
   "outputs": [
    {
     "name": "stdout",
     "output_type": "stream",
     "text": [
      "q_img_out:[[[[136 123 112 ... 114 112 131]\n",
      "   [123  93  89 ...  84  88  96]\n",
      "   [117  93  89 ...  80  85  96]\n",
      "   ...\n",
      "   [118 103  93 ...  84  83  93]\n",
      "   [104  93  87 ...  84  84 101]\n",
      "   [136 104 104 ... 103 104 111]]\n",
      "\n",
      "  [[142 119 114 ... 114 114 126]\n",
      "   [127  93  88 ...  84  89  97]\n",
      "   [123  93  89 ...  82  88  97]\n",
      "   ...\n",
      "   [122  96  97 ...  83  84  99]\n",
      "   [117  97  84 ...  83  85  99]\n",
      "   [124 111  99 ... 103 107 123]]\n",
      "\n",
      "  [[139 116 112 ... 112 112 119]\n",
      "   [122  96  88 ...  87  92 101]\n",
      "   [119  93  89 ...  83  88  99]\n",
      "   ...\n",
      "   [117 103  92 ...  84  88 101]\n",
      "   [119  93  92 ...  84  89 101]\n",
      "   [129 112 103 ... 103 108 129]]]]\n"
     ]
    }
   ],
   "source": [
    "def array_show_int8(array):\n",
    "    deahze_img = array.astype(np.uint8)\n",
    "    #print(f\"deahze_img.shape:{deahze_img.shape:}\")\n",
    "    deahze_img = np.squeeze(deahze_img)\n",
    "    #print(f\"deahze_img.shape after:{deahze_img.shape:}\")\n",
    "    img = Image.fromarray(deahze_img.transpose(1,2,0))\n",
    "    img.show()\n",
    "    \n",
    "q_img_out= q_add_relu+128\n",
    "print(f\"q_img_out:{q_img_out}\")\n",
    "# result_gen_hex(q_img_out,txt_output_result_sub)\n",
    "# print(f\"q_img_out:{q_add_relu}\")\n",
    "#print(f\"q_img_out.shape:{q_img_out.shape}\")\n",
    "#print(f\"q_img_out.dtype:{q_img_out.dtype}\")\n",
    "array_show_int8(q_img_out)"
   ]
  },
  {
   "cell_type": "code",
   "execution_count": null,
   "metadata": {},
   "outputs": [],
   "source": []
  }
 ],
 "metadata": {
  "kernelspec": {
   "display_name": "base",
   "language": "python",
   "name": "python3"
  },
  "language_info": {
   "codemirror_mode": {
    "name": "ipython",
    "version": 3
   },
   "file_extension": ".py",
   "mimetype": "text/x-python",
   "name": "python",
   "nbconvert_exporter": "python",
   "pygments_lexer": "ipython3",
   "version": "3.11.5"
  },
  "orig_nbformat": 4
 },
 "nbformat": 4,
 "nbformat_minor": 2
}
